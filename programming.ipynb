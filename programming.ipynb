{
 "cells": [
  {
   "cell_type": "code",
   "execution_count": 1,
   "id": "c133bcdf",
   "metadata": {},
   "outputs": [],
   "source": [
    "#A year is a leap year if the following conditions are satisfied:\n",
    "#1.The year is multiple of 400\n",
    "#2.The year is  multiple of 4 and not multiple of 100."
   ]
  },
  {
   "cell_type": "code",
   "execution_count": 2,
   "id": "b0e7f269",
   "metadata": {},
   "outputs": [
    {
     "name": "stdout",
     "output_type": "stream",
     "text": [
      "Enter the year\n",
      "2000\n",
      "2000 is leap year\n"
     ]
    }
   ],
   "source": [
    "print(\"Enter the year\")\n",
    "year=int(input())\n",
    "if year%400==0 and year%4==0 or year%100!=0:\n",
    "    print(year,\"is leap year\")\n",
    "else:\n",
    "    print(year,\"is not leap year\")"
   ]
  },
  {
   "cell_type": "code",
   "execution_count": null,
   "id": "5f3142b7",
   "metadata": {},
   "outputs": [],
   "source": [
    "#you are driving a little too fast,and a police officer stops.write a python function to compute the over speed fine.If spreed is 60 or less, the fine is-0 INR.if the speed is between 61 and80 inclusive,the fine is-500INR.if the speed is 81 or more,the fine is-1000 INR "
   ]
  },
  {
   "cell_type": "code",
   "execution_count": 3,
   "id": "5e5125ee",
   "metadata": {},
   "outputs": [
    {
     "name": "stdout",
     "output_type": "stream",
     "text": [
      "enter your speed\n",
      "80\n",
      "your fine is 500 INR\n"
     ]
    }
   ],
   "source": [
    " \n",
    "print(\"Enter your speed\")\n",
    "speed=int(input())\n",
    "if speed<60:\n",
    "    print(\"Your fine is 0 INR\")\n",
    "elif speed>61 and speed<=80:\n",
    "    print(\"your fine is 500 INR\")\n",
    "elif speed>=81:\n",
    "    print(\"your fine is 1000 INR\")\n"
   ]
  },
  {
   "cell_type": "code",
   "execution_count": null,
   "id": "98f447e0",
   "metadata": {},
   "outputs": [],
   "source": [
    "#write a python program to print multiplication table"
   ]
  },
  {
   "cell_type": "code",
   "execution_count": 5,
   "id": "6b743684",
   "metadata": {},
   "outputs": [
    {
     "name": "stdout",
     "output_type": "stream",
     "text": [
      "Enter number\n",
      "8\n",
      "8 * 1 = 8\n",
      "8 * 2 = 16\n",
      "8 * 3 = 24\n",
      "8 * 4 = 32\n",
      "8 * 5 = 40\n",
      "8 * 6 = 48\n",
      "8 * 7 = 56\n",
      "8 * 8 = 64\n",
      "8 * 9 = 72\n",
      "8 * 10 = 80\n"
     ]
    }
   ],
   "source": [
    "\n",
    "print(\"Enter number\")\n",
    "a=int(input())\n",
    "for i in range(1,11):\n",
    "    print(a,\"*\",i,\"=\",a*i)"
   ]
  },
  {
   "cell_type": "code",
   "execution_count": null,
   "id": "7134de3e",
   "metadata": {},
   "outputs": [],
   "source": [
    "#write a python program to find sum of \"n\" natural numbers"
   ]
  },
  {
   "cell_type": "code",
   "execution_count": 6,
   "id": "9079966c",
   "metadata": {},
   "outputs": [
    {
     "name": "stdout",
     "output_type": "stream",
     "text": [
      "enter number\n",
      "25\n",
      "sum is 325.0\n"
     ]
    }
   ],
   "source": [
    "\n",
    "print(\"enter number\")\n",
    "n=int(input())\n",
    "sum=(n*(n+1))/2\n",
    "print(\"sum is\",sum)\n",
    "\n"
   ]
  },
  {
   "cell_type": "code",
   "execution_count": 7,
   "id": "a3269d8f",
   "metadata": {},
   "outputs": [],
   "source": [
    "#if we list all the natural numbers below 10 that are multiples of 3 or 5,we get 3,5,6 and 9.the sum of these multiples is 23.write a program to find the sum of all the multiples of 3 or 5 below 1000."
   ]
  },
  {
   "cell_type": "code",
   "execution_count": 8,
   "id": "882707d0",
   "metadata": {},
   "outputs": [
    {
     "name": "stdout",
     "output_type": "stream",
     "text": [
      "233168\n"
     ]
    }
   ],
   "source": [
    "sum=0\n",
    "for i in  range(1000):\n",
    "    if i%3==0 or i%5==0: \n",
    "        sum=sum+i\n",
    "print(sum)"
   ]
  },
  {
   "cell_type": "code",
   "execution_count": 9,
   "id": "97e14d9d",
   "metadata": {},
   "outputs": [],
   "source": [
    "#Edwin is getting bored in department then Sreehari came with a FizBuzz game in which there is a given number N.If the number is divisible by 3 then Edwin has to print Fizz and if the number is divisible by 5  then he has to print Buzz and if divisible by both then he has to print FizzBuzZ!.If N does not satisfy an  co ndition print the number as it is.Help Edwin in printing the result.Input:Given a number N and Output:Print the string as per the given condition."
   ]
  },
  {
   "cell_type": "code",
   "execution_count": 10,
   "id": "a460448f",
   "metadata": {},
   "outputs": [
    {
     "name": "stdout",
     "output_type": "stream",
     "text": [
      "enter the number\n",
      "12\n",
      "Fizz\n"
     ]
    }
   ],
   "source": [
    "print(\"enter the number\")\n",
    "N=int(input())\n",
    "if N%3==0:\n",
    "    print(\"Fizz\")\n",
    "elif N%5==0:\n",
    "    print(\"Buzz\")\n",
    "elif N%3==0 and N%5==0:\n",
    "    print(\"FizzBuzz\")\n",
    "else:\n",
    "    print(N)"
   ]
  },
  {
   "cell_type": "code",
   "execution_count": 11,
   "id": "4b7d0cee",
   "metadata": {},
   "outputs": [],
   "source": [
    "#write a python code to find the difference between the sum of te squares and the square of the sum of the first N natural numbers."
   ]
  },
  {
   "cell_type": "code",
   "execution_count": 18,
   "id": "b6355c3d",
   "metadata": {},
   "outputs": [
    {
     "name": "stdout",
     "output_type": "stream",
     "text": [
      "Enter a number\n",
      "7\n",
      "140\n",
      "784\n",
      "644\n"
     ]
    }
   ],
   "source": [
    "s=0\n",
    "p=0\n",
    "print(\"Enter a number\")\n",
    "num=int(input())\n",
    "for i in range(1,num+1):\n",
    "    sum=i*i\n",
    "    s=s+sum\n",
    "print(s)\n",
    "for j in range(1,num+1):\n",
    "    p=p+j\n",
    "    q=p*p\n",
    "print(q)\n",
    "print(q-s)\n",
    "\n",
    "   \n",
    "    \n"
   ]
  }
 ],
 "metadata": {
  "kernelspec": {
   "display_name": "Python 3",
   "language": "python",
   "name": "python3"
  },
  "language_info": {
   "codemirror_mode": {
    "name": "ipython",
    "version": 3
   },
   "file_extension": ".py",
   "mimetype": "text/x-python",
   "name": "python",
   "nbconvert_exporter": "python",
   "pygments_lexer": "ipython3",
   "version": "3.8.8"
  }
 },
 "nbformat": 4,
 "nbformat_minor": 5
}
